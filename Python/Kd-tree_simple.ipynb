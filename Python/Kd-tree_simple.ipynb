{
 "cells": [
  {
   "cell_type": "markdown",
   "metadata": {},
   "source": [
    "## Kd-tree\n",
    "This is a very \"bare minimum\" implementation of a Kd Tree, to illustrate the concept of Kd Tree"
   ]
  },
  {
   "cell_type": "code",
   "execution_count": 2,
   "metadata": {},
   "outputs": [],
   "source": [
    "import math"
   ]
  },
  {
   "cell_type": "code",
   "execution_count": 3,
   "metadata": {},
   "outputs": [],
   "source": [
    "class Node:\n",
    "    \n",
    "    def __init__(self, position, idx):\n",
    "        \n",
    "        self.position = position # position in x-y or x-y-z\n",
    "        self.idx = idx  # ID of the node\n",
    "        self.left = None\n",
    "        self.right = None\n",
    "       \n"
   ]
  },
  {
   "cell_type": "code",
   "execution_count": 4,
   "metadata": {},
   "outputs": [],
   "source": [
    "class KD_tree:\n",
    "\n",
    "    def __init__(self, dim):\n",
    "        self.root = None\n",
    "        self.dim = dim  # Dimension of a point, e.g., x-y or x-y-z\n",
    "\n",
    "    def _dist(self, point1, point2):\n",
    "        '''\n",
    "        A helper function that calculates the distance between two nodes\n",
    "        '''\n",
    "        dist = 0\n",
    "        for p1, p2 in zip(point1, point2):\n",
    "               dist += (p1 - p2) ** 2\n",
    "        return math.sqrt(dist)\n",
    "\n",
    "    def _in_box(self, target, point, tol):\n",
    "        '''\n",
    "        Check if a point lies within the the 'box' centered with the target\n",
    "        '''\n",
    "        is_in_box = True\n",
    "        for i in range(self.dim):\n",
    "            is_in_box = is_in_box and (target[i] - tol <= point[i] <= target[i] + tol)\n",
    "\n",
    "        return is_in_box   \n",
    "\n",
    "\n",
    "    def _insert_helper(self, node, depth, point, idx):\n",
    "        '''\n",
    "        A helper function that recursively inserts a node (point)\n",
    "        '''\n",
    "        if not self.root:  # First node to be inserted ( that becomes root)\n",
    "               self.root = Node(point, idx)\n",
    "\n",
    "        if not node:  # A leaf node\n",
    "               return Node(point, idx)\n",
    "\n",
    "        idx_dim = depth % self.dim # Decide which dimension to split\n",
    "        cur_pos = node.position[idx_dim]\n",
    "\n",
    "        if point[idx_dim] < cur_pos: # Recursive splitting\n",
    "                  node.left = self._insert_helper(node.left, depth + 1, point, idx)\n",
    "        else:\n",
    "                  node.right = self._insert_helper(node.right, depth + 1, point, idx)\n",
    "\n",
    "        return node \n",
    "\n",
    "    def _search_helper(self, node, target, depth, tol, rslt):\n",
    "        '''\n",
    "        A helper function that recursively searches a point with distance tol to a target\n",
    "        '''\n",
    "\n",
    "        if not node:\n",
    "               return None\n",
    "\n",
    "        pos = node.position\n",
    "\n",
    "        if self._in_box(target, pos, tol):\n",
    "            if self._dist(target, pos) < tol:\n",
    "                rslt.append(node.idx)\n",
    "\n",
    "        idx_dim = depth % self.dim\n",
    "        cur_pos = pos[idx_dim] \n",
    "        cur_tgt = target[idx_dim]\n",
    "\n",
    "        if cur_tgt - tol < cur_pos:\n",
    "                  self._search_helper(node.left, target, depth + 1, tol, rslt)\n",
    "\n",
    "        if  cur_tgt + tol > cur_pos:\n",
    "                  self._search_helper(node.right, target, depth + 1, tol, rslt)\n",
    "\n",
    "    def insert(self, point, idx):\n",
    "\n",
    "        self._insert_helper(self.root, 0, point, idx) \n",
    "\n",
    "    def search(self, target, tol):\n",
    "\n",
    "        rslt = []\n",
    "        self._search_helper(self.root, target, 0, tol, rslt)\n",
    "        return rslt         "
   ]
  },
  {
   "cell_type": "code",
   "execution_count": 7,
   "metadata": {},
   "outputs": [
    {
     "name": "stdout",
     "output_type": "stream",
     "text": [
      "[2]\n"
     ]
    }
   ],
   "source": [
    "if __name__ == \"__main__\":\n",
    "\n",
    "    kd_tree = KD_tree(2) # Initialize the 2D kD_tree\n",
    "    \n",
    "    # Insert points to the kd_tree\n",
    "    points =[[3, 6], [17, 15], [13, 15], [6, 12], [9, 1], [2, 7], [10, 19]] \n",
    "    for idx, point in enumerate(points):\n",
    "         kd_tree.insert(point, idx)\n",
    "         \n",
    "    ans = kd_tree.search([12, 14], 5)    \n",
    "     \n",
    "    print(ans)\n",
    "               "
   ]
  }
 ],
 "metadata": {
  "kernelspec": {
   "display_name": "Python 3",
   "language": "python",
   "name": "python3"
  },
  "language_info": {
   "codemirror_mode": {
    "name": "ipython",
    "version": 3
   },
   "file_extension": ".py",
   "mimetype": "text/x-python",
   "name": "python",
   "nbconvert_exporter": "python",
   "pygments_lexer": "ipython3",
   "version": "3.5.4"
  }
 },
 "nbformat": 4,
 "nbformat_minor": 2
}
